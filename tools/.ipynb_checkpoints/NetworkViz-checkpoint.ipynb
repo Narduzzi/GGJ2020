{
 "cells": [
  {
   "cell_type": "code",
   "execution_count": 89,
   "metadata": {},
   "outputs": [],
   "source": [
    "import networkx as nx\n",
    "import plotly\n",
    "import plotly.graph_objects as go\n",
    "import json\n",
    "import matplotlib.pyplot as plt\n",
    "import numpy as np"
   ]
  },
  {
   "cell_type": "code",
   "execution_count": 107,
   "metadata": {},
   "outputs": [],
   "source": [
    "with open(\"data/events.json\") as f:\n",
    "    data = json.load(f)"
   ]
  },
  {
   "cell_type": "code",
   "execution_count": 101,
   "metadata": {},
   "outputs": [],
   "source": [
    "def print_responses(data):\n",
    "    for d in data:\n",
    "        if \"answers\" in d.keys():\n",
    "            r = d[\"answers\"][0][\"responses\"]\n",
    "            print(r)"
   ]
  },
  {
   "cell_type": "code",
   "execution_count": 108,
   "metadata": {},
   "outputs": [
    {
     "data": {
      "text/plain": [
       "29"
      ]
     },
     "execution_count": 108,
     "metadata": {},
     "output_type": "execute_result"
    }
   ],
   "source": [
    "with open(\"data/events.json\") as f:\n",
    "    data = json.load(f)\n",
    "new_dataset = []\n",
    "for d in data:\n",
    "    if \"answers\" in d:\n",
    "        r = d[\"answers\"][0][\"responses\"]\n",
    "        random = np.random.random()\n",
    "        if random>0.5:\n",
    "            r = r[::-1]\n",
    "            d[\"answers\"][0][\"responses\"] = r\n",
    "    new_dataset.append(d)\n",
    "    \n",
    "with open(\"data/events.json\",\"w\") as f:\n",
    "    json.dump(new_dataset,f,indent=4)"
   ]
  },
  {
   "cell_type": "code",
   "execution_count": 69,
   "metadata": {},
   "outputs": [],
   "source": [
    "def print_not_connected(data):\n",
    "    for d in data:\n",
    "        if len(d[\"next_ids\"])==0 and d[\"id\"]>0 and len(d[\"previous_ids\"])>0:\n",
    "            print(d[\"id\"],d[\"event_title\"],d[\"date\"])"
   ]
  },
  {
   "cell_type": "code",
   "execution_count": 70,
   "metadata": {},
   "outputs": [],
   "source": [
    "print_not_connected(data)"
   ]
  },
  {
   "cell_type": "code",
   "execution_count": 71,
   "metadata": {},
   "outputs": [],
   "source": [
    "nodes = []\n",
    "nodes_pos = []\n",
    "last_y_value = 0\n",
    "node_dict = dict()\n",
    "\n",
    "for i in range(len(data)):\n",
    "    idx = data[i][\"id\"]\n",
    "    y_value = 0\n",
    "    \n",
    "    if data[i][\"tag\"]==\"real\":\n",
    "        y_value=1\n",
    "    \n",
    "    if data[i][\"tag\"]==\"end\":\n",
    "        y_value = 1.0/int(data[i][\"id\"])\n",
    "    \"\"\"\n",
    "    if data[i][\"date\"]<-10000000:\n",
    "        data[i][\"date\"] = -10000000+100000*last_y_value\n",
    "        last_y_value=last_y_value+1\n",
    "        y_value = last_y_value\n",
    "    \n",
    "    if data[i][\"date\"]>10000000:\n",
    "        data[i][\"date\"] = 10000000-100000*last_y_value\n",
    "        last_y_value=last_y_value+1\n",
    "        y_value = last_y_value\n",
    "    \"\"\"\n",
    "    \n",
    "    position = (data[i][\"date\"], y_value)\n",
    "    extra_data = data[i]\n",
    "    extra_data[\"pos\"] = position\n",
    "    \n",
    "    nodes.append((idx, extra_data))\n",
    "    nodes_pos.append(position)\n",
    "    node_dict[data[i][\"id\"]] = data[i]\n",
    "        \n",
    "\n",
    "\n",
    "edges = []\n",
    "edges_infos = []\n",
    "nodes_ids = [x[0] for x in nodes]\n",
    "for i in range(len(data)):\n",
    "    idx = data[i][\"id\"]\n",
    "    if \"answers\" in data[i].keys():\n",
    "        for r in data[i][\"answers\"][0][\"responses\"]:\n",
    "            if \"next_event_id\" in r.keys() :\n",
    "                next_id = r[\"next_event_id\"]\n",
    "                if next_id not in nodes_ids:\n",
    "                    continue\n",
    "                color = \"green\"\n",
    "                if r[\"type\"]==\"bad\":\n",
    "                    color=\"red\"\n",
    "                edges.append((idx,next_id,{\"color\":color}))\n",
    "                edges_infos.append({\"from\":idx,\"to\":next_id,\"color\":color})"
   ]
  },
  {
   "cell_type": "code",
   "execution_count": 72,
   "metadata": {},
   "outputs": [],
   "source": [
    "G = nx.Graph()"
   ]
  },
  {
   "cell_type": "code",
   "execution_count": 73,
   "metadata": {},
   "outputs": [],
   "source": [
    "G.add_nodes_from(nodes)\n",
    "G.add_edges_from(edges)"
   ]
  },
  {
   "cell_type": "code",
   "execution_count": 74,
   "metadata": {},
   "outputs": [],
   "source": [
    "def get_color(tag):\n",
    "    if tag is None:\n",
    "        return \"green\"\n",
    "    elif tag==\"fake\":\n",
    "        return \"red\"\n",
    "    elif tag==\"end\":\n",
    "        return \"black\"\n",
    "    return \"green\""
   ]
  },
  {
   "cell_type": "code",
   "execution_count": 75,
   "metadata": {},
   "outputs": [],
   "source": [
    "edge_x = []\n",
    "edge_y = []\n",
    "colors = []\n",
    "for edge in edges:\n",
    "    if \"pos\" in G.nodes[edge[0]].keys() and \"pos\" in G.nodes[edge[1]].keys():\n",
    "        x0, y0 = G.nodes[edge[0]]['pos']\n",
    "        x1, y1 = G.nodes[edge[1]]['pos']\n",
    "        edge_x.append(x0)\n",
    "        edge_x.append(x1)\n",
    "        edge_y.append(y0)\n",
    "        edge_y.append(y1)\n",
    "        for e in edges_infos:\n",
    "            if int(e[\"from\"]) == int(edge[0]) and int(e[\"to\"]) == int(edge[1]):\n",
    "                colors.append(e[\"color\"])"
   ]
  },
  {
   "cell_type": "code",
   "execution_count": 76,
   "metadata": {},
   "outputs": [],
   "source": [
    "previous_events = dict([(node,[]) for node in G.nodes()])\n",
    "next_events = dict([(node,[]) for node in G.nodes()])\n",
    "\n",
    "for node in G.nodes():\n",
    "    previous_ids = node_dict[node][\"previous_ids\"]\n",
    "    next_ids = node_dict[node][\"next_ids\"]\n",
    "    \n",
    "    next_events[node] = [node_dict[i][\"event_title\"] for i in next_ids]\n",
    "    previous_events[node] = [node_dict[i][\"event_title\"] for i in previous_ids]"
   ]
  },
  {
   "cell_type": "code",
   "execution_count": 77,
   "metadata": {},
   "outputs": [
    {
     "data": {
      "application/vnd.plotly.v1+json": {
       "config": {
        "plotlyServerURL": "https://plot.ly"
       },
       "data": [
        {
         "hoverinfo": "none",
         "line": {
          "color": "#444",
          "width": 3
         },
         "mode": "lines",
         "type": "scatter",
         "x": [
          -10000000000,
          -4000000000,
          -10000000000,
          -4000000000,
          -776,
          -753,
          -776,
          10000,
          1963,
          10000,
          1963,
          1986,
          -8000,
          -3000,
          -8000,
          10000,
          -3000,
          -776,
          -3000,
          10000,
          -753,
          -44,
          -753,
          10000,
          1986,
          2001,
          1986,
          10000,
          -44,
          20,
          -44,
          10000,
          2001,
          2020,
          2001,
          10000,
          20,
          79,
          20,
          10000,
          2020,
          2030,
          2020,
          10000,
          2030,
          10000,
          2030,
          10000,
          79,
          10000,
          79,
          476,
          -4000000000,
          -380000000,
          -4000000000,
          10000,
          1460,
          1492,
          1460,
          10000,
          -380000000,
          -200000000,
          -380000000,
          10000,
          -200000000,
          -65000000,
          -200000000,
          10000,
          -65000000,
          -10000,
          -65000000,
          10000,
          -10000,
          -8000,
          -10000,
          10000,
          476,
          10000,
          476,
          1460,
          1492,
          1963,
          1492,
          10000
         ],
         "y": [
          1,
          1,
          1,
          1,
          1,
          1,
          1,
          -0.5,
          1,
          -0.125,
          1,
          1,
          1,
          1,
          1,
          -0.5,
          1,
          1,
          1,
          -1,
          1,
          1,
          1,
          -1,
          1,
          1,
          1,
          -1,
          1,
          1,
          1,
          -0.3333333333333333,
          1,
          1,
          1,
          -0.16666666666666666,
          1,
          1,
          1,
          -0.25,
          1,
          1,
          1,
          -1,
          1,
          -1,
          1,
          -0.2,
          1,
          -1,
          1,
          1,
          1,
          1,
          1,
          -0.25,
          1,
          1,
          1,
          -0.125,
          1,
          1,
          1,
          -0.25,
          1,
          1,
          1,
          -0.5,
          1,
          1,
          1,
          -0.5,
          1,
          1,
          1,
          -0.5,
          1,
          -0.3333333333333333,
          1,
          1,
          1,
          1,
          1,
          -0.125
         ]
        },
        {
         "customdata": [
          [
           [
            "Assassinat de Kennedy",
            "Invention et utilisation de la poudre à canon",
            "Christophe Colomb découvre l’Amérique"
           ],
           []
          ],
          [
           [],
           []
          ],
          [
           [
            "Windows vista"
           ],
           []
          ],
          [
           [
            "Explosion"
           ],
           []
          ],
          [
           [
            "Jésus marche sur les eaux",
            "Big Bang",
            " Création des premières formes de vies"
           ],
           []
          ],
          [
           [
            "Assassinat de Jules César",
            "Chute de l’empire romain d’occident"
           ],
           []
          ],
          [
           [
            "Premier jeux olympiques",
            "Révolution néolithique",
            "Sortie de l'eau des poissons",
            "Météorite",
            " L’évolution des singes"
           ],
           []
          ],
          [
           [
            "Invention de l’écriture",
            "Fondation de Rome",
            "Chernobyl disaster",
            "Greta",
            "Explosion",
            "Pompéi ensevelie sous le vésuve"
           ],
           []
          ],
          [
           [],
           [
            "Big Bang",
            "Big Bang"
           ]
          ],
          [
           [
            "Invention de l’écriture"
           ],
           [
            "Fondation de Rome",
            "Fin nature"
           ]
          ],
          [
           [
            "Christophe Colomb découvre l’Amérique"
           ],
           [
            "Fin utopique",
            "Chernobyl disaster"
           ]
          ],
          [
           [
            " L’évolution des singes"
           ],
           [
            "Invention de l’écriture",
            "Fin nature"
           ]
          ],
          [
           [
            "Révolution néolithique"
           ],
           [
            "Premier jeux olympiques",
            "Fin chaotique"
           ]
          ],
          [
           [
            "Premier jeux olympiques"
           ],
           [
            "Assassinat de Jules César",
            "Fin chaotique"
           ]
          ],
          [
           [
            "Assassinat de Kennedy"
           ],
           [
            "Windows vista",
            "Fin chaotique"
           ]
          ],
          [
           [
            "Fondation de Rome"
           ],
           [
            "Jésus marche sur les eaux",
            "Fin dictatorial"
           ]
          ],
          [
           [
            "Chernobyl disaster"
           ],
           [
            "Greta",
            "Fin Windows Vista"
           ]
          ],
          [
           [
            "Assassinat de Jules César"
           ],
           [
            "Pompéi ensevelie sous le vésuve",
            "Fin triste"
           ]
          ],
          [
           [
            "Windows vista"
           ],
           [
            "Explosion",
            "Fin chaotique"
           ]
          ],
          [
           [
            "Greta"
           ],
           [
            "Fin chaotique",
            "Fin normale"
           ]
          ],
          [
           [
            "Jésus marche sur les eaux"
           ],
           [
            "Fin chaotique",
            "Chute de l’empire romain d’occident"
           ]
          ],
          [
           [
            "Start",
            "Start"
           ],
           [
            " Création des premières formes de vies",
            "Fin triste"
           ]
          ],
          [
           [
            "Chute de l’empire romain d’occident"
           ],
           [
            "Christophe Colomb découvre l’Amérique",
            "Fin utopique"
           ]
          ],
          [
           [
            "Big Bang"
           ],
           [
            "Sortie de l'eau des poissons",
            "Fin triste"
           ]
          ],
          [
           [
            " Création des premières formes de vies"
           ],
           [
            "Météorite",
            "Fin nature"
           ]
          ],
          [
           [
            "Sortie de l'eau des poissons"
           ],
           [
            " L’évolution des singes",
            "Fin nature"
           ]
          ],
          [
           [
            "Météorite"
           ],
           [
            "Révolution néolithique",
            "Fin nature"
           ]
          ],
          [
           [
            "Pompéi ensevelie sous le vésuve"
           ],
           [
            "Fin dictatorial",
            "Invention et utilisation de la poudre à canon"
           ]
          ],
          [
           [
            "Invention et utilisation de la poudre à canon"
           ],
           [
            "Assassinat de Kennedy",
            "Fin utopique"
           ]
          ]
         ],
         "hoverinfo": "text",
         "hovertemplate": "<br><b>Date</b>: %{x}<br><b>%{text}</b><br><b>In:</b>%{customdata[0]}<br><b>Out:</b>%{customdata[1]}<br>",
         "marker": {
          "color": [
           "black",
           "black",
           "black",
           "black",
           "black",
           "black",
           "black",
           "black",
           "green",
           "green",
           "green",
           "green",
           "green",
           "green",
           "green",
           "green",
           "green",
           "green",
           "green",
           "green",
           "green",
           "green",
           "green",
           "green",
           "green",
           "green",
           "green",
           "green",
           "green"
          ],
          "size": 10
         },
         "mode": "markers",
         "text": [
          "Fin utopique",
          "Fin futuriste",
          "Fin Windows Vista",
          "Fin normale",
          "Fin triste",
          "Fin dictatorial",
          "Fin nature",
          "Fin chaotique",
          "Start",
          "Premier jeux olympiques",
          "Assassinat de Kennedy",
          "Révolution néolithique",
          "Invention de l’écriture",
          "Fondation de Rome",
          "Chernobyl disaster",
          "Assassinat de Jules César",
          "Windows vista",
          "Jésus marche sur les eaux",
          "Greta",
          "Explosion",
          "Pompéi ensevelie sous le vésuve",
          "Big Bang",
          "Invention et utilisation de la poudre à canon",
          " Création des premières formes de vies",
          "Sortie de l'eau des poissons",
          "Météorite",
          " L’évolution des singes",
          "Chute de l’empire romain d’occident",
          "Christophe Colomb découvre l’Amérique"
         ],
         "type": "scatter",
         "x": [
          10000,
          10000,
          10000,
          10000,
          10000,
          10000,
          10000,
          10000,
          -10000000000,
          -776,
          1963,
          -8000,
          -3000,
          -753,
          1986,
          -44,
          2001,
          20,
          2020,
          2030,
          79,
          -4000000000,
          1460,
          -380000000,
          -200000000,
          -65000000,
          -10000,
          476,
          1492
         ],
         "y": [
          -0.125,
          -0.14285714285714285,
          -0.16666666666666666,
          -0.2,
          -0.25,
          -0.3333333333333333,
          -0.5,
          -1,
          1,
          1,
          1,
          1,
          1,
          1,
          1,
          1,
          1,
          1,
          1,
          1,
          1,
          1,
          1,
          1,
          1,
          1,
          1,
          1,
          1
         ]
        }
       ],
       "layout": {
        "template": {
         "data": {
          "bar": [
           {
            "error_x": {
             "color": "#2a3f5f"
            },
            "error_y": {
             "color": "#2a3f5f"
            },
            "marker": {
             "line": {
              "color": "#E5ECF6",
              "width": 0.5
             }
            },
            "type": "bar"
           }
          ],
          "barpolar": [
           {
            "marker": {
             "line": {
              "color": "#E5ECF6",
              "width": 0.5
             }
            },
            "type": "barpolar"
           }
          ],
          "carpet": [
           {
            "aaxis": {
             "endlinecolor": "#2a3f5f",
             "gridcolor": "white",
             "linecolor": "white",
             "minorgridcolor": "white",
             "startlinecolor": "#2a3f5f"
            },
            "baxis": {
             "endlinecolor": "#2a3f5f",
             "gridcolor": "white",
             "linecolor": "white",
             "minorgridcolor": "white",
             "startlinecolor": "#2a3f5f"
            },
            "type": "carpet"
           }
          ],
          "choropleth": [
           {
            "colorbar": {
             "outlinewidth": 0,
             "ticks": ""
            },
            "type": "choropleth"
           }
          ],
          "contour": [
           {
            "colorbar": {
             "outlinewidth": 0,
             "ticks": ""
            },
            "colorscale": [
             [
              0,
              "#0d0887"
             ],
             [
              0.1111111111111111,
              "#46039f"
             ],
             [
              0.2222222222222222,
              "#7201a8"
             ],
             [
              0.3333333333333333,
              "#9c179e"
             ],
             [
              0.4444444444444444,
              "#bd3786"
             ],
             [
              0.5555555555555556,
              "#d8576b"
             ],
             [
              0.6666666666666666,
              "#ed7953"
             ],
             [
              0.7777777777777778,
              "#fb9f3a"
             ],
             [
              0.8888888888888888,
              "#fdca26"
             ],
             [
              1,
              "#f0f921"
             ]
            ],
            "type": "contour"
           }
          ],
          "contourcarpet": [
           {
            "colorbar": {
             "outlinewidth": 0,
             "ticks": ""
            },
            "type": "contourcarpet"
           }
          ],
          "heatmap": [
           {
            "colorbar": {
             "outlinewidth": 0,
             "ticks": ""
            },
            "colorscale": [
             [
              0,
              "#0d0887"
             ],
             [
              0.1111111111111111,
              "#46039f"
             ],
             [
              0.2222222222222222,
              "#7201a8"
             ],
             [
              0.3333333333333333,
              "#9c179e"
             ],
             [
              0.4444444444444444,
              "#bd3786"
             ],
             [
              0.5555555555555556,
              "#d8576b"
             ],
             [
              0.6666666666666666,
              "#ed7953"
             ],
             [
              0.7777777777777778,
              "#fb9f3a"
             ],
             [
              0.8888888888888888,
              "#fdca26"
             ],
             [
              1,
              "#f0f921"
             ]
            ],
            "type": "heatmap"
           }
          ],
          "heatmapgl": [
           {
            "colorbar": {
             "outlinewidth": 0,
             "ticks": ""
            },
            "colorscale": [
             [
              0,
              "#0d0887"
             ],
             [
              0.1111111111111111,
              "#46039f"
             ],
             [
              0.2222222222222222,
              "#7201a8"
             ],
             [
              0.3333333333333333,
              "#9c179e"
             ],
             [
              0.4444444444444444,
              "#bd3786"
             ],
             [
              0.5555555555555556,
              "#d8576b"
             ],
             [
              0.6666666666666666,
              "#ed7953"
             ],
             [
              0.7777777777777778,
              "#fb9f3a"
             ],
             [
              0.8888888888888888,
              "#fdca26"
             ],
             [
              1,
              "#f0f921"
             ]
            ],
            "type": "heatmapgl"
           }
          ],
          "histogram": [
           {
            "marker": {
             "colorbar": {
              "outlinewidth": 0,
              "ticks": ""
             }
            },
            "type": "histogram"
           }
          ],
          "histogram2d": [
           {
            "colorbar": {
             "outlinewidth": 0,
             "ticks": ""
            },
            "colorscale": [
             [
              0,
              "#0d0887"
             ],
             [
              0.1111111111111111,
              "#46039f"
             ],
             [
              0.2222222222222222,
              "#7201a8"
             ],
             [
              0.3333333333333333,
              "#9c179e"
             ],
             [
              0.4444444444444444,
              "#bd3786"
             ],
             [
              0.5555555555555556,
              "#d8576b"
             ],
             [
              0.6666666666666666,
              "#ed7953"
             ],
             [
              0.7777777777777778,
              "#fb9f3a"
             ],
             [
              0.8888888888888888,
              "#fdca26"
             ],
             [
              1,
              "#f0f921"
             ]
            ],
            "type": "histogram2d"
           }
          ],
          "histogram2dcontour": [
           {
            "colorbar": {
             "outlinewidth": 0,
             "ticks": ""
            },
            "colorscale": [
             [
              0,
              "#0d0887"
             ],
             [
              0.1111111111111111,
              "#46039f"
             ],
             [
              0.2222222222222222,
              "#7201a8"
             ],
             [
              0.3333333333333333,
              "#9c179e"
             ],
             [
              0.4444444444444444,
              "#bd3786"
             ],
             [
              0.5555555555555556,
              "#d8576b"
             ],
             [
              0.6666666666666666,
              "#ed7953"
             ],
             [
              0.7777777777777778,
              "#fb9f3a"
             ],
             [
              0.8888888888888888,
              "#fdca26"
             ],
             [
              1,
              "#f0f921"
             ]
            ],
            "type": "histogram2dcontour"
           }
          ],
          "mesh3d": [
           {
            "colorbar": {
             "outlinewidth": 0,
             "ticks": ""
            },
            "type": "mesh3d"
           }
          ],
          "parcoords": [
           {
            "line": {
             "colorbar": {
              "outlinewidth": 0,
              "ticks": ""
             }
            },
            "type": "parcoords"
           }
          ],
          "scatter": [
           {
            "marker": {
             "colorbar": {
              "outlinewidth": 0,
              "ticks": ""
             }
            },
            "type": "scatter"
           }
          ],
          "scatter3d": [
           {
            "line": {
             "colorbar": {
              "outlinewidth": 0,
              "ticks": ""
             }
            },
            "marker": {
             "colorbar": {
              "outlinewidth": 0,
              "ticks": ""
             }
            },
            "type": "scatter3d"
           }
          ],
          "scattercarpet": [
           {
            "marker": {
             "colorbar": {
              "outlinewidth": 0,
              "ticks": ""
             }
            },
            "type": "scattercarpet"
           }
          ],
          "scattergeo": [
           {
            "marker": {
             "colorbar": {
              "outlinewidth": 0,
              "ticks": ""
             }
            },
            "type": "scattergeo"
           }
          ],
          "scattergl": [
           {
            "marker": {
             "colorbar": {
              "outlinewidth": 0,
              "ticks": ""
             }
            },
            "type": "scattergl"
           }
          ],
          "scattermapbox": [
           {
            "marker": {
             "colorbar": {
              "outlinewidth": 0,
              "ticks": ""
             }
            },
            "type": "scattermapbox"
           }
          ],
          "scatterpolar": [
           {
            "marker": {
             "colorbar": {
              "outlinewidth": 0,
              "ticks": ""
             }
            },
            "type": "scatterpolar"
           }
          ],
          "scatterpolargl": [
           {
            "marker": {
             "colorbar": {
              "outlinewidth": 0,
              "ticks": ""
             }
            },
            "type": "scatterpolargl"
           }
          ],
          "scatterternary": [
           {
            "marker": {
             "colorbar": {
              "outlinewidth": 0,
              "ticks": ""
             }
            },
            "type": "scatterternary"
           }
          ],
          "surface": [
           {
            "colorbar": {
             "outlinewidth": 0,
             "ticks": ""
            },
            "colorscale": [
             [
              0,
              "#0d0887"
             ],
             [
              0.1111111111111111,
              "#46039f"
             ],
             [
              0.2222222222222222,
              "#7201a8"
             ],
             [
              0.3333333333333333,
              "#9c179e"
             ],
             [
              0.4444444444444444,
              "#bd3786"
             ],
             [
              0.5555555555555556,
              "#d8576b"
             ],
             [
              0.6666666666666666,
              "#ed7953"
             ],
             [
              0.7777777777777778,
              "#fb9f3a"
             ],
             [
              0.8888888888888888,
              "#fdca26"
             ],
             [
              1,
              "#f0f921"
             ]
            ],
            "type": "surface"
           }
          ],
          "table": [
           {
            "cells": {
             "fill": {
              "color": "#EBF0F8"
             },
             "line": {
              "color": "white"
             }
            },
            "header": {
             "fill": {
              "color": "#C8D4E3"
             },
             "line": {
              "color": "white"
             }
            },
            "type": "table"
           }
          ]
         },
         "layout": {
          "annotationdefaults": {
           "arrowcolor": "#2a3f5f",
           "arrowhead": 0,
           "arrowwidth": 1
          },
          "colorscale": {
           "diverging": [
            [
             0,
             "#8e0152"
            ],
            [
             0.1,
             "#c51b7d"
            ],
            [
             0.2,
             "#de77ae"
            ],
            [
             0.3,
             "#f1b6da"
            ],
            [
             0.4,
             "#fde0ef"
            ],
            [
             0.5,
             "#f7f7f7"
            ],
            [
             0.6,
             "#e6f5d0"
            ],
            [
             0.7,
             "#b8e186"
            ],
            [
             0.8,
             "#7fbc41"
            ],
            [
             0.9,
             "#4d9221"
            ],
            [
             1,
             "#276419"
            ]
           ],
           "sequential": [
            [
             0,
             "#0d0887"
            ],
            [
             0.1111111111111111,
             "#46039f"
            ],
            [
             0.2222222222222222,
             "#7201a8"
            ],
            [
             0.3333333333333333,
             "#9c179e"
            ],
            [
             0.4444444444444444,
             "#bd3786"
            ],
            [
             0.5555555555555556,
             "#d8576b"
            ],
            [
             0.6666666666666666,
             "#ed7953"
            ],
            [
             0.7777777777777778,
             "#fb9f3a"
            ],
            [
             0.8888888888888888,
             "#fdca26"
            ],
            [
             1,
             "#f0f921"
            ]
           ],
           "sequentialminus": [
            [
             0,
             "#0d0887"
            ],
            [
             0.1111111111111111,
             "#46039f"
            ],
            [
             0.2222222222222222,
             "#7201a8"
            ],
            [
             0.3333333333333333,
             "#9c179e"
            ],
            [
             0.4444444444444444,
             "#bd3786"
            ],
            [
             0.5555555555555556,
             "#d8576b"
            ],
            [
             0.6666666666666666,
             "#ed7953"
            ],
            [
             0.7777777777777778,
             "#fb9f3a"
            ],
            [
             0.8888888888888888,
             "#fdca26"
            ],
            [
             1,
             "#f0f921"
            ]
           ]
          },
          "colorway": [
           "#636efa",
           "#EF553B",
           "#00cc96",
           "#ab63fa",
           "#FFA15A",
           "#19d3f3",
           "#FF6692",
           "#B6E880",
           "#FF97FF",
           "#FECB52"
          ],
          "font": {
           "color": "#2a3f5f"
          },
          "geo": {
           "bgcolor": "white",
           "lakecolor": "white",
           "landcolor": "#E5ECF6",
           "showlakes": true,
           "showland": true,
           "subunitcolor": "white"
          },
          "hoverlabel": {
           "align": "left"
          },
          "hovermode": "closest",
          "mapbox": {
           "style": "light"
          },
          "paper_bgcolor": "white",
          "plot_bgcolor": "#E5ECF6",
          "polar": {
           "angularaxis": {
            "gridcolor": "white",
            "linecolor": "white",
            "ticks": ""
           },
           "bgcolor": "#E5ECF6",
           "radialaxis": {
            "gridcolor": "white",
            "linecolor": "white",
            "ticks": ""
           }
          },
          "scene": {
           "xaxis": {
            "backgroundcolor": "#E5ECF6",
            "gridcolor": "white",
            "gridwidth": 2,
            "linecolor": "white",
            "showbackground": true,
            "ticks": "",
            "zerolinecolor": "white"
           },
           "yaxis": {
            "backgroundcolor": "#E5ECF6",
            "gridcolor": "white",
            "gridwidth": 2,
            "linecolor": "white",
            "showbackground": true,
            "ticks": "",
            "zerolinecolor": "white"
           },
           "zaxis": {
            "backgroundcolor": "#E5ECF6",
            "gridcolor": "white",
            "gridwidth": 2,
            "linecolor": "white",
            "showbackground": true,
            "ticks": "",
            "zerolinecolor": "white"
           }
          },
          "shapedefaults": {
           "line": {
            "color": "#2a3f5f"
           }
          },
          "ternary": {
           "aaxis": {
            "gridcolor": "white",
            "linecolor": "white",
            "ticks": ""
           },
           "baxis": {
            "gridcolor": "white",
            "linecolor": "white",
            "ticks": ""
           },
           "bgcolor": "#E5ECF6",
           "caxis": {
            "gridcolor": "white",
            "linecolor": "white",
            "ticks": ""
           }
          },
          "title": {
           "x": 0.05
          },
          "xaxis": {
           "automargin": true,
           "gridcolor": "white",
           "linecolor": "white",
           "ticks": "",
           "zerolinecolor": "white",
           "zerolinewidth": 2
          },
          "yaxis": {
           "automargin": true,
           "gridcolor": "white",
           "linecolor": "white",
           "ticks": "",
           "zerolinecolor": "white",
           "zerolinewidth": 2
          }
         }
        }
       }
      },
      "text/html": [
       "<div>\n",
       "        \n",
       "        \n",
       "            <div id=\"3f5c3b3c-50b2-4e1a-9915-4772d8cc12b7\" class=\"plotly-graph-div\" style=\"height:525px; width:100%;\"></div>\n",
       "            <script type=\"text/javascript\">\n",
       "                require([\"plotly\"], function(Plotly) {\n",
       "                    window.PLOTLYENV=window.PLOTLYENV || {};\n",
       "                    \n",
       "                if (document.getElementById(\"3f5c3b3c-50b2-4e1a-9915-4772d8cc12b7\")) {\n",
       "                    Plotly.newPlot(\n",
       "                        '3f5c3b3c-50b2-4e1a-9915-4772d8cc12b7',\n",
       "                        [{\"hoverinfo\": \"none\", \"line\": {\"color\": \"#444\", \"width\": 3}, \"mode\": \"lines\", \"type\": \"scatter\", \"x\": [-10000000000, -4000000000, -10000000000, -4000000000, -776, -753, -776, 10000, 1963, 10000, 1963, 1986, -8000, -3000, -8000, 10000, -3000, -776, -3000, 10000, -753, -44, -753, 10000, 1986, 2001, 1986, 10000, -44, 20, -44, 10000, 2001, 2020, 2001, 10000, 20, 79, 20, 10000, 2020, 2030, 2020, 10000, 2030, 10000, 2030, 10000, 79, 10000, 79, 476, -4000000000, -380000000, -4000000000, 10000, 1460, 1492, 1460, 10000, -380000000, -200000000, -380000000, 10000, -200000000, -65000000, -200000000, 10000, -65000000, -10000, -65000000, 10000, -10000, -8000, -10000, 10000, 476, 10000, 476, 1460, 1492, 1963, 1492, 10000], \"y\": [1, 1, 1, 1, 1, 1, 1, -0.5, 1, -0.125, 1, 1, 1, 1, 1, -0.5, 1, 1, 1, -1.0, 1, 1, 1, -1.0, 1, 1, 1, -1.0, 1, 1, 1, -0.3333333333333333, 1, 1, 1, -0.16666666666666666, 1, 1, 1, -0.25, 1, 1, 1, -1.0, 1, -1.0, 1, -0.2, 1, -1.0, 1, 1, 1, 1, 1, -0.25, 1, 1, 1, -0.125, 1, 1, 1, -0.25, 1, 1, 1, -0.5, 1, 1, 1, -0.5, 1, 1, 1, -0.5, 1, -0.3333333333333333, 1, 1, 1, 1, 1, -0.125]}, {\"customdata\": [[[\"Assassinat de Kennedy\", \"Invention et utilisation de la poudre \\u00e0 canon\", \"Christophe Colomb d\\u00e9couvre l\\u2019Am\\u00e9rique\"], []], [[], []], [[\"Windows vista\"], []], [[\"Explosion\"], []], [[\"J\\u00e9sus marche sur les eaux\", \"Big Bang\", \" Cr\\u00e9ation des premi\\u00e8res formes de vies\"], []], [[\"Assassinat de Jules C\\u00e9sar\", \"Chute de l\\u2019empire romain d\\u2019occident\"], []], [[\"Premier jeux olympiques\", \"R\\u00e9volution n\\u00e9olithique\", \"Sortie de l'eau des poissons\", \"M\\u00e9t\\u00e9orite\", \" L\\u2019\\u00e9volution des singes\"], []], [[\"Invention de l\\u2019\\u00e9criture\", \"Fondation de Rome\", \"Chernobyl disaster\", \"Greta\", \"Explosion\", \"Pomp\\u00e9i ensevelie sous le v\\u00e9suve\"], []], [[], [\"Big Bang\", \"Big Bang\"]], [[\"Invention de l\\u2019\\u00e9criture\"], [\"Fondation de Rome\", \"Fin nature\"]], [[\"Christophe Colomb d\\u00e9couvre l\\u2019Am\\u00e9rique\"], [\"Fin utopique\", \"Chernobyl disaster\"]], [[\" L\\u2019\\u00e9volution des singes\"], [\"Invention de l\\u2019\\u00e9criture\", \"Fin nature\"]], [[\"R\\u00e9volution n\\u00e9olithique\"], [\"Premier jeux olympiques\", \"Fin chaotique\"]], [[\"Premier jeux olympiques\"], [\"Assassinat de Jules C\\u00e9sar\", \"Fin chaotique\"]], [[\"Assassinat de Kennedy\"], [\"Windows vista\", \"Fin chaotique\"]], [[\"Fondation de Rome\"], [\"J\\u00e9sus marche sur les eaux\", \"Fin dictatorial\"]], [[\"Chernobyl disaster\"], [\"Greta\", \"Fin Windows Vista\"]], [[\"Assassinat de Jules C\\u00e9sar\"], [\"Pomp\\u00e9i ensevelie sous le v\\u00e9suve\", \"Fin triste\"]], [[\"Windows vista\"], [\"Explosion\", \"Fin chaotique\"]], [[\"Greta\"], [\"Fin chaotique\", \"Fin normale\"]], [[\"J\\u00e9sus marche sur les eaux\"], [\"Fin chaotique\", \"Chute de l\\u2019empire romain d\\u2019occident\"]], [[\"Start\", \"Start\"], [\" Cr\\u00e9ation des premi\\u00e8res formes de vies\", \"Fin triste\"]], [[\"Chute de l\\u2019empire romain d\\u2019occident\"], [\"Christophe Colomb d\\u00e9couvre l\\u2019Am\\u00e9rique\", \"Fin utopique\"]], [[\"Big Bang\"], [\"Sortie de l'eau des poissons\", \"Fin triste\"]], [[\" Cr\\u00e9ation des premi\\u00e8res formes de vies\"], [\"M\\u00e9t\\u00e9orite\", \"Fin nature\"]], [[\"Sortie de l'eau des poissons\"], [\" L\\u2019\\u00e9volution des singes\", \"Fin nature\"]], [[\"M\\u00e9t\\u00e9orite\"], [\"R\\u00e9volution n\\u00e9olithique\", \"Fin nature\"]], [[\"Pomp\\u00e9i ensevelie sous le v\\u00e9suve\"], [\"Fin dictatorial\", \"Invention et utilisation de la poudre \\u00e0 canon\"]], [[\"Invention et utilisation de la poudre \\u00e0 canon\"], [\"Assassinat de Kennedy\", \"Fin utopique\"]]], \"hoverinfo\": \"text\", \"hovertemplate\": \"<br><b>Date</b>: %{x}<br><b>%{text}</b><br><b>In:</b>%{customdata[0]}<br><b>Out:</b>%{customdata[1]}<br>\", \"marker\": {\"color\": [\"black\", \"black\", \"black\", \"black\", \"black\", \"black\", \"black\", \"black\", \"green\", \"green\", \"green\", \"green\", \"green\", \"green\", \"green\", \"green\", \"green\", \"green\", \"green\", \"green\", \"green\", \"green\", \"green\", \"green\", \"green\", \"green\", \"green\", \"green\", \"green\"], \"size\": 10}, \"mode\": \"markers\", \"text\": [\"Fin utopique\", \"Fin futuriste\", \"Fin Windows Vista\", \"Fin normale\", \"Fin triste\", \"Fin dictatorial\", \"Fin nature\", \"Fin chaotique\", \"Start\", \"Premier jeux olympiques\", \"Assassinat de Kennedy\", \"R\\u00e9volution n\\u00e9olithique\", \"Invention de l\\u2019\\u00e9criture\", \"Fondation de Rome\", \"Chernobyl disaster\", \"Assassinat de Jules C\\u00e9sar\", \"Windows vista\", \"J\\u00e9sus marche sur les eaux\", \"Greta\", \"Explosion\", \"Pomp\\u00e9i ensevelie sous le v\\u00e9suve\", \"Big Bang\", \"Invention et utilisation de la poudre \\u00e0 canon\", \" Cr\\u00e9ation des premi\\u00e8res formes de vies\", \"Sortie de l'eau des poissons\", \"M\\u00e9t\\u00e9orite\", \" L\\u2019\\u00e9volution des singes\", \"Chute de l\\u2019empire romain d\\u2019occident\", \"Christophe Colomb d\\u00e9couvre l\\u2019Am\\u00e9rique\"], \"type\": \"scatter\", \"x\": [10000, 10000, 10000, 10000, 10000, 10000, 10000, 10000, -10000000000, -776, 1963, -8000, -3000, -753, 1986, -44, 2001, 20, 2020, 2030, 79, -4000000000, 1460, -380000000, -200000000, -65000000, -10000, 476, 1492], \"y\": [-0.125, -0.14285714285714285, -0.16666666666666666, -0.2, -0.25, -0.3333333333333333, -0.5, -1.0, 1, 1, 1, 1, 1, 1, 1, 1, 1, 1, 1, 1, 1, 1, 1, 1, 1, 1, 1, 1, 1]}],\n",
       "                        {\"template\": {\"data\": {\"bar\": [{\"error_x\": {\"color\": \"#2a3f5f\"}, \"error_y\": {\"color\": \"#2a3f5f\"}, \"marker\": {\"line\": {\"color\": \"#E5ECF6\", \"width\": 0.5}}, \"type\": \"bar\"}], \"barpolar\": [{\"marker\": {\"line\": {\"color\": \"#E5ECF6\", \"width\": 0.5}}, \"type\": \"barpolar\"}], \"carpet\": [{\"aaxis\": {\"endlinecolor\": \"#2a3f5f\", \"gridcolor\": \"white\", \"linecolor\": \"white\", \"minorgridcolor\": \"white\", \"startlinecolor\": \"#2a3f5f\"}, \"baxis\": {\"endlinecolor\": \"#2a3f5f\", \"gridcolor\": \"white\", \"linecolor\": \"white\", \"minorgridcolor\": \"white\", \"startlinecolor\": \"#2a3f5f\"}, \"type\": \"carpet\"}], \"choropleth\": [{\"colorbar\": {\"outlinewidth\": 0, \"ticks\": \"\"}, \"type\": \"choropleth\"}], \"contour\": [{\"colorbar\": {\"outlinewidth\": 0, \"ticks\": \"\"}, \"colorscale\": [[0.0, \"#0d0887\"], [0.1111111111111111, \"#46039f\"], [0.2222222222222222, \"#7201a8\"], [0.3333333333333333, \"#9c179e\"], [0.4444444444444444, \"#bd3786\"], [0.5555555555555556, \"#d8576b\"], [0.6666666666666666, \"#ed7953\"], [0.7777777777777778, \"#fb9f3a\"], [0.8888888888888888, \"#fdca26\"], [1.0, \"#f0f921\"]], \"type\": \"contour\"}], \"contourcarpet\": [{\"colorbar\": {\"outlinewidth\": 0, \"ticks\": \"\"}, \"type\": \"contourcarpet\"}], \"heatmap\": [{\"colorbar\": {\"outlinewidth\": 0, \"ticks\": \"\"}, \"colorscale\": [[0.0, \"#0d0887\"], [0.1111111111111111, \"#46039f\"], [0.2222222222222222, \"#7201a8\"], [0.3333333333333333, \"#9c179e\"], [0.4444444444444444, \"#bd3786\"], [0.5555555555555556, \"#d8576b\"], [0.6666666666666666, \"#ed7953\"], [0.7777777777777778, \"#fb9f3a\"], [0.8888888888888888, \"#fdca26\"], [1.0, \"#f0f921\"]], \"type\": \"heatmap\"}], \"heatmapgl\": [{\"colorbar\": {\"outlinewidth\": 0, \"ticks\": \"\"}, \"colorscale\": [[0.0, \"#0d0887\"], [0.1111111111111111, \"#46039f\"], [0.2222222222222222, \"#7201a8\"], [0.3333333333333333, \"#9c179e\"], [0.4444444444444444, \"#bd3786\"], [0.5555555555555556, \"#d8576b\"], [0.6666666666666666, \"#ed7953\"], [0.7777777777777778, \"#fb9f3a\"], [0.8888888888888888, \"#fdca26\"], [1.0, \"#f0f921\"]], \"type\": \"heatmapgl\"}], \"histogram\": [{\"marker\": {\"colorbar\": {\"outlinewidth\": 0, \"ticks\": \"\"}}, \"type\": \"histogram\"}], \"histogram2d\": [{\"colorbar\": {\"outlinewidth\": 0, \"ticks\": \"\"}, \"colorscale\": [[0.0, \"#0d0887\"], [0.1111111111111111, \"#46039f\"], [0.2222222222222222, \"#7201a8\"], [0.3333333333333333, \"#9c179e\"], [0.4444444444444444, \"#bd3786\"], [0.5555555555555556, \"#d8576b\"], [0.6666666666666666, \"#ed7953\"], [0.7777777777777778, \"#fb9f3a\"], [0.8888888888888888, \"#fdca26\"], [1.0, \"#f0f921\"]], \"type\": \"histogram2d\"}], \"histogram2dcontour\": [{\"colorbar\": {\"outlinewidth\": 0, \"ticks\": \"\"}, \"colorscale\": [[0.0, \"#0d0887\"], [0.1111111111111111, \"#46039f\"], [0.2222222222222222, \"#7201a8\"], [0.3333333333333333, \"#9c179e\"], [0.4444444444444444, \"#bd3786\"], [0.5555555555555556, \"#d8576b\"], [0.6666666666666666, \"#ed7953\"], [0.7777777777777778, \"#fb9f3a\"], [0.8888888888888888, \"#fdca26\"], [1.0, \"#f0f921\"]], \"type\": \"histogram2dcontour\"}], \"mesh3d\": [{\"colorbar\": {\"outlinewidth\": 0, \"ticks\": \"\"}, \"type\": \"mesh3d\"}], \"parcoords\": [{\"line\": {\"colorbar\": {\"outlinewidth\": 0, \"ticks\": \"\"}}, \"type\": \"parcoords\"}], \"scatter\": [{\"marker\": {\"colorbar\": {\"outlinewidth\": 0, \"ticks\": \"\"}}, \"type\": \"scatter\"}], \"scatter3d\": [{\"line\": {\"colorbar\": {\"outlinewidth\": 0, \"ticks\": \"\"}}, \"marker\": {\"colorbar\": {\"outlinewidth\": 0, \"ticks\": \"\"}}, \"type\": \"scatter3d\"}], \"scattercarpet\": [{\"marker\": {\"colorbar\": {\"outlinewidth\": 0, \"ticks\": \"\"}}, \"type\": \"scattercarpet\"}], \"scattergeo\": [{\"marker\": {\"colorbar\": {\"outlinewidth\": 0, \"ticks\": \"\"}}, \"type\": \"scattergeo\"}], \"scattergl\": [{\"marker\": {\"colorbar\": {\"outlinewidth\": 0, \"ticks\": \"\"}}, \"type\": \"scattergl\"}], \"scattermapbox\": [{\"marker\": {\"colorbar\": {\"outlinewidth\": 0, \"ticks\": \"\"}}, \"type\": \"scattermapbox\"}], \"scatterpolar\": [{\"marker\": {\"colorbar\": {\"outlinewidth\": 0, \"ticks\": \"\"}}, \"type\": \"scatterpolar\"}], \"scatterpolargl\": [{\"marker\": {\"colorbar\": {\"outlinewidth\": 0, \"ticks\": \"\"}}, \"type\": \"scatterpolargl\"}], \"scatterternary\": [{\"marker\": {\"colorbar\": {\"outlinewidth\": 0, \"ticks\": \"\"}}, \"type\": \"scatterternary\"}], \"surface\": [{\"colorbar\": {\"outlinewidth\": 0, \"ticks\": \"\"}, \"colorscale\": [[0.0, \"#0d0887\"], [0.1111111111111111, \"#46039f\"], [0.2222222222222222, \"#7201a8\"], [0.3333333333333333, \"#9c179e\"], [0.4444444444444444, \"#bd3786\"], [0.5555555555555556, \"#d8576b\"], [0.6666666666666666, \"#ed7953\"], [0.7777777777777778, \"#fb9f3a\"], [0.8888888888888888, \"#fdca26\"], [1.0, \"#f0f921\"]], \"type\": \"surface\"}], \"table\": [{\"cells\": {\"fill\": {\"color\": \"#EBF0F8\"}, \"line\": {\"color\": \"white\"}}, \"header\": {\"fill\": {\"color\": \"#C8D4E3\"}, \"line\": {\"color\": \"white\"}}, \"type\": \"table\"}]}, \"layout\": {\"annotationdefaults\": {\"arrowcolor\": \"#2a3f5f\", \"arrowhead\": 0, \"arrowwidth\": 1}, \"colorscale\": {\"diverging\": [[0, \"#8e0152\"], [0.1, \"#c51b7d\"], [0.2, \"#de77ae\"], [0.3, \"#f1b6da\"], [0.4, \"#fde0ef\"], [0.5, \"#f7f7f7\"], [0.6, \"#e6f5d0\"], [0.7, \"#b8e186\"], [0.8, \"#7fbc41\"], [0.9, \"#4d9221\"], [1, \"#276419\"]], \"sequential\": [[0.0, \"#0d0887\"], [0.1111111111111111, \"#46039f\"], [0.2222222222222222, \"#7201a8\"], [0.3333333333333333, \"#9c179e\"], [0.4444444444444444, \"#bd3786\"], [0.5555555555555556, \"#d8576b\"], [0.6666666666666666, \"#ed7953\"], [0.7777777777777778, \"#fb9f3a\"], [0.8888888888888888, \"#fdca26\"], [1.0, \"#f0f921\"]], \"sequentialminus\": [[0.0, \"#0d0887\"], [0.1111111111111111, \"#46039f\"], [0.2222222222222222, \"#7201a8\"], [0.3333333333333333, \"#9c179e\"], [0.4444444444444444, \"#bd3786\"], [0.5555555555555556, \"#d8576b\"], [0.6666666666666666, \"#ed7953\"], [0.7777777777777778, \"#fb9f3a\"], [0.8888888888888888, \"#fdca26\"], [1.0, \"#f0f921\"]]}, \"colorway\": [\"#636efa\", \"#EF553B\", \"#00cc96\", \"#ab63fa\", \"#FFA15A\", \"#19d3f3\", \"#FF6692\", \"#B6E880\", \"#FF97FF\", \"#FECB52\"], \"font\": {\"color\": \"#2a3f5f\"}, \"geo\": {\"bgcolor\": \"white\", \"lakecolor\": \"white\", \"landcolor\": \"#E5ECF6\", \"showlakes\": true, \"showland\": true, \"subunitcolor\": \"white\"}, \"hoverlabel\": {\"align\": \"left\"}, \"hovermode\": \"closest\", \"mapbox\": {\"style\": \"light\"}, \"paper_bgcolor\": \"white\", \"plot_bgcolor\": \"#E5ECF6\", \"polar\": {\"angularaxis\": {\"gridcolor\": \"white\", \"linecolor\": \"white\", \"ticks\": \"\"}, \"bgcolor\": \"#E5ECF6\", \"radialaxis\": {\"gridcolor\": \"white\", \"linecolor\": \"white\", \"ticks\": \"\"}}, \"scene\": {\"xaxis\": {\"backgroundcolor\": \"#E5ECF6\", \"gridcolor\": \"white\", \"gridwidth\": 2, \"linecolor\": \"white\", \"showbackground\": true, \"ticks\": \"\", \"zerolinecolor\": \"white\"}, \"yaxis\": {\"backgroundcolor\": \"#E5ECF6\", \"gridcolor\": \"white\", \"gridwidth\": 2, \"linecolor\": \"white\", \"showbackground\": true, \"ticks\": \"\", \"zerolinecolor\": \"white\"}, \"zaxis\": {\"backgroundcolor\": \"#E5ECF6\", \"gridcolor\": \"white\", \"gridwidth\": 2, \"linecolor\": \"white\", \"showbackground\": true, \"ticks\": \"\", \"zerolinecolor\": \"white\"}}, \"shapedefaults\": {\"line\": {\"color\": \"#2a3f5f\"}}, \"ternary\": {\"aaxis\": {\"gridcolor\": \"white\", \"linecolor\": \"white\", \"ticks\": \"\"}, \"baxis\": {\"gridcolor\": \"white\", \"linecolor\": \"white\", \"ticks\": \"\"}, \"bgcolor\": \"#E5ECF6\", \"caxis\": {\"gridcolor\": \"white\", \"linecolor\": \"white\", \"ticks\": \"\"}}, \"title\": {\"x\": 0.05}, \"xaxis\": {\"automargin\": true, \"gridcolor\": \"white\", \"linecolor\": \"white\", \"ticks\": \"\", \"zerolinecolor\": \"white\", \"zerolinewidth\": 2}, \"yaxis\": {\"automargin\": true, \"gridcolor\": \"white\", \"linecolor\": \"white\", \"ticks\": \"\", \"zerolinecolor\": \"white\", \"zerolinewidth\": 2}}}},\n",
       "                        {\"responsive\": true}\n",
       "                    ).then(function(){\n",
       "                            \n",
       "var gd = document.getElementById('3f5c3b3c-50b2-4e1a-9915-4772d8cc12b7');\n",
       "var x = new MutationObserver(function (mutations, observer) {{\n",
       "        var display = window.getComputedStyle(gd).display;\n",
       "        if (!display || display === 'none') {{\n",
       "            console.log([gd, 'removed!']);\n",
       "            Plotly.purge(gd);\n",
       "            observer.disconnect();\n",
       "        }}\n",
       "}});\n",
       "\n",
       "// Listen for the removal of the full notebook cells\n",
       "var notebookContainer = gd.closest('#notebook-container');\n",
       "if (notebookContainer) {{\n",
       "    x.observe(notebookContainer, {childList: true});\n",
       "}}\n",
       "\n",
       "// Listen for the clearing of the current output cell\n",
       "var outputEl = gd.closest('.output');\n",
       "if (outputEl) {{\n",
       "    x.observe(outputEl, {childList: true});\n",
       "}}\n",
       "\n",
       "                        })\n",
       "                };\n",
       "                });\n",
       "            </script>\n",
       "        </div>"
      ]
     },
     "metadata": {},
     "output_type": "display_data"
    }
   ],
   "source": [
    "edge_trace = go.Scatter(\n",
    "    x=edge_x, y=edge_y,\n",
    "    line=dict(width=3, color=\"#444\"),\n",
    "    hoverinfo='none',\n",
    "    mode='lines')\n",
    "\n",
    "\n",
    "nodes_ids = []\n",
    "node_x = []\n",
    "node_y = []\n",
    "events = []\n",
    "colors = []\n",
    "for node in G.nodes():\n",
    "    if \"pos\" in G.nodes[node].keys():\n",
    "        n = G.nodes[node]\n",
    "        x, y = n['pos']\n",
    "        events.append(n[\"event_title\"])\n",
    "        colors.append(get_color(n[\"tag\"]))\n",
    "        nodes_ids = n[\"id\"]\n",
    "        node_x.append(x)\n",
    "        node_y.append(y)\n",
    "        \n",
    "customdata=[(previous_events[node],next_events[node]) for node in G.nodes()]      \n",
    "\n",
    "node_trace = go.Scatter(\n",
    "    x=node_x, y=node_y, text=events,customdata=customdata,\n",
    "    hovertemplate =\n",
    "    '<br><b>Date</b>: %{x}<br>'+\n",
    "    '<b>%{text}</b><br>'+'<b>In:</b>%{customdata[0]}<br>'+'<b>Out:</b>%{customdata[1]}<br>',\n",
    "    mode='markers',\n",
    "    hoverinfo='text',\n",
    "    marker=dict(\n",
    "        color=colors,\n",
    "        size=10)\n",
    ")\n",
    "\n",
    "fig = go.Figure(data=[edge_trace,node_trace])\n",
    "fig.show()"
   ]
  },
  {
   "cell_type": "code",
   "execution_count": null,
   "metadata": {},
   "outputs": [],
   "source": []
  }
 ],
 "metadata": {
  "kernelspec": {
   "display_name": "Python 3",
   "language": "python",
   "name": "python3"
  },
  "language_info": {
   "codemirror_mode": {
    "name": "ipython",
    "version": 3
   },
   "file_extension": ".py",
   "mimetype": "text/x-python",
   "name": "python",
   "nbconvert_exporter": "python",
   "pygments_lexer": "ipython3",
   "version": "3.6.9"
  }
 },
 "nbformat": 4,
 "nbformat_minor": 2
}
